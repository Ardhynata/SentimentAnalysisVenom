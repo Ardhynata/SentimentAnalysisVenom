{
 "cells": [
  {
   "cell_type": "code",
   "execution_count": 19,
   "metadata": {},
   "outputs": [],
   "source": [
    "import csv\n",
    "import tweepy\n",
    "import seaborn as sns\n",
    "import matplotlib.pyplot as plt\n",
    "import pandas as pd"
   ]
  },
  {
   "cell_type": "code",
   "execution_count": null,
   "metadata": {},
   "outputs": [],
   "source": []
  },
  {
   "cell_type": "code",
   "execution_count": 20,
   "metadata": {},
   "outputs": [],
   "source": [
    "auth = tweepy.OAuthHandler('ynr485xkIGMh5m3RwEhhiK3Y4', 'xooRDYC235j8FTkeZe3s3NcmvzMqndy264RXAVwIQvvZsksbGk')\n",
    "auth.set_access_token('1226612648-kimIpngGwgx3tceLibaIjNpVUAyfjLm2DjkwVa5', 'hknzO1NV885ghvSsymN5ihJArAqj1tLZZXlitXrJcM1ke')\n",
    "\n",
    "api = tweepy.API(auth)"
   ]
  },
  {
   "cell_type": "code",
   "execution_count": 21,
   "metadata": {},
   "outputs": [],
   "source": [
    "bp_surabaya_tweets = tweepy.Cursor(api.search, q='venom', geocode=\"-7.2574719,112.75208829999997,50km\").items()"
   ]
  },
  {
   "cell_type": "code",
   "execution_count": 25,
   "metadata": {},
   "outputs": [],
   "source": [
    "with open('bp_surabaya_tweets.csv', 'w', encoding=\"utf-8\") as csv_tweet, open('bp_users_surabaya.csv', 'w', encoding=\"utf-8\") as csv_user:\n",
    "    fieldnames_tweet = ['id', 'text', 'user_id', 'created_at']\n",
    "    writer_tweet = csv.DictWriter(csv_tweet, fieldnames=fieldnames_tweet)\n",
    "    writer_tweet.writeheader()\n",
    "\n",
    "    fieldnames_user = ['id', 'name', 'screen_name', 'location', 'followers_count', 'friends_count']\n",
    "    writer_user = csv.DictWriter(csv_user, fieldnames=fieldnames_user)\n",
    "    writer_user.writeheader()\n",
    "\n",
    "    for tweet in bp_surabaya_tweets:\n",
    "        if not tweet.retweeted and ('RT @' not in tweet.text):\n",
    "            writer_tweet.writerow({\n",
    "                'id': tweet.id, \n",
    "                'text': tweet.text, \n",
    "                'user_id': tweet.user.id,\n",
    "                'created_at': tweet.created_at\n",
    "            })\n",
    "\n",
    "\n",
    "            writer_user.writerow({\n",
    "                'id': tweet.user.id, \n",
    "                'name': tweet.user.name, \n",
    "                'screen_name': tweet.user.screen_name,\n",
    "                'location': tweet.user.location,\n",
    "                'followers_count': tweet.user.followers_count,\n",
    "                'friends_count': tweet.user.friends_count\n",
    "            })        \n",
    "        "
   ]
  },
  {
   "cell_type": "code",
   "execution_count": 34,
   "metadata": {},
   "outputs": [],
   "source": [
    "bp_bandung_tweets = tweepy.Cursor(api.search, q='venom', geocode=\"-6.9174639,107.61912280000001,50km\").items()"
   ]
  },
  {
   "cell_type": "code",
   "execution_count": 35,
   "metadata": {},
   "outputs": [],
   "source": [
    "with open('bp_bandung_tweets.csv', 'w', encoding=\"utf-8\") as csv_tweet, open('bp_users_bandung.csv', 'w', encoding=\"utf-8\") as csv_user:\n",
    "    fieldnames_tweet = ['id', 'text', 'user_id', 'created_at']\n",
    "    writer_tweet = csv.DictWriter(csv_tweet, fieldnames=fieldnames_tweet)\n",
    "    writer_tweet.writeheader()\n",
    "\n",
    "    fieldnames_user = ['id', 'name', 'screen_name', 'location', 'followers_count', 'friends_count']\n",
    "    writer_user = csv.DictWriter(csv_user, fieldnames=fieldnames_user)\n",
    "    writer_user.writeheader()\n",
    "\n",
    "    for tweet in bp_bandung_tweets:\n",
    "        if not tweet.retweeted and ('RT @' not in tweet.text):\n",
    "            writer_tweet.writerow({\n",
    "                'id': tweet.id, \n",
    "                'text': tweet.text, \n",
    "                'user_id': tweet.user.id,\n",
    "                'created_at': tweet.created_at\n",
    "            })\n",
    "\n",
    "\n",
    "            writer_user.writerow({\n",
    "                'id': tweet.user.id, \n",
    "                'name': tweet.user.name, \n",
    "                'screen_name': tweet.user.screen_name,\n",
    "                'location': tweet.user.location,\n",
    "                'followers_count': tweet.user.followers_count,\n",
    "                'friends_count': tweet.user.friends_count\n",
    "            })        \n",
    "        "
   ]
  },
  {
   "cell_type": "code",
   "execution_count": 36,
   "metadata": {},
   "outputs": [],
   "source": [
    "bp_jkt_tweets = tweepy.Cursor(api.search, q='venom', geocode=\"-6.174465,106.822745,50km\").items()"
   ]
  },
  {
   "cell_type": "code",
   "execution_count": 37,
   "metadata": {},
   "outputs": [
    {
     "ename": "TweepError",
     "evalue": "Twitter error response: status code = 429",
     "output_type": "error",
     "traceback": [
      "\u001b[1;31m---------------------------------------------------------------------------\u001b[0m",
      "\u001b[1;31mTweepError\u001b[0m                                Traceback (most recent call last)",
      "\u001b[1;32m<ipython-input-37-ea6464f59d0a>\u001b[0m in \u001b[0;36m<module>\u001b[1;34m()\u001b[0m\n\u001b[0;32m      8\u001b[0m     \u001b[0mwriter_user\u001b[0m\u001b[1;33m.\u001b[0m\u001b[0mwriteheader\u001b[0m\u001b[1;33m(\u001b[0m\u001b[1;33m)\u001b[0m\u001b[1;33m\u001b[0m\u001b[0m\n\u001b[0;32m      9\u001b[0m \u001b[1;33m\u001b[0m\u001b[0m\n\u001b[1;32m---> 10\u001b[1;33m     \u001b[1;32mfor\u001b[0m \u001b[0mtweet\u001b[0m \u001b[1;32min\u001b[0m \u001b[0mbp_jkt_tweets\u001b[0m\u001b[1;33m:\u001b[0m\u001b[1;33m\u001b[0m\u001b[0m\n\u001b[0m\u001b[0;32m     11\u001b[0m         \u001b[1;32mif\u001b[0m \u001b[1;32mnot\u001b[0m \u001b[0mtweet\u001b[0m\u001b[1;33m.\u001b[0m\u001b[0mretweeted\u001b[0m \u001b[1;32mand\u001b[0m \u001b[1;33m(\u001b[0m\u001b[1;34m'RT @'\u001b[0m \u001b[1;32mnot\u001b[0m \u001b[1;32min\u001b[0m \u001b[0mtweet\u001b[0m\u001b[1;33m.\u001b[0m\u001b[0mtext\u001b[0m\u001b[1;33m)\u001b[0m\u001b[1;33m:\u001b[0m\u001b[1;33m\u001b[0m\u001b[0m\n\u001b[0;32m     12\u001b[0m             writer_tweet.writerow({\n",
      "\u001b[1;32mD:\\Anaconda\\lib\\site-packages\\tweepy\\cursor.py\u001b[0m in \u001b[0;36m__next__\u001b[1;34m(self)\u001b[0m\n\u001b[0;32m     47\u001b[0m \u001b[1;33m\u001b[0m\u001b[0m\n\u001b[0;32m     48\u001b[0m     \u001b[1;32mdef\u001b[0m \u001b[0m__next__\u001b[0m\u001b[1;33m(\u001b[0m\u001b[0mself\u001b[0m\u001b[1;33m)\u001b[0m\u001b[1;33m:\u001b[0m\u001b[1;33m\u001b[0m\u001b[0m\n\u001b[1;32m---> 49\u001b[1;33m         \u001b[1;32mreturn\u001b[0m \u001b[0mself\u001b[0m\u001b[1;33m.\u001b[0m\u001b[0mnext\u001b[0m\u001b[1;33m(\u001b[0m\u001b[1;33m)\u001b[0m\u001b[1;33m\u001b[0m\u001b[0m\n\u001b[0m\u001b[0;32m     50\u001b[0m \u001b[1;33m\u001b[0m\u001b[0m\n\u001b[0;32m     51\u001b[0m     \u001b[1;32mdef\u001b[0m \u001b[0mnext\u001b[0m\u001b[1;33m(\u001b[0m\u001b[0mself\u001b[0m\u001b[1;33m)\u001b[0m\u001b[1;33m:\u001b[0m\u001b[1;33m\u001b[0m\u001b[0m\n",
      "\u001b[1;32mD:\\Anaconda\\lib\\site-packages\\tweepy\\cursor.py\u001b[0m in \u001b[0;36mnext\u001b[1;34m(self)\u001b[0m\n\u001b[0;32m    195\u001b[0m         \u001b[1;32mif\u001b[0m \u001b[0mself\u001b[0m\u001b[1;33m.\u001b[0m\u001b[0mcurrent_page\u001b[0m \u001b[1;32mis\u001b[0m \u001b[1;32mNone\u001b[0m \u001b[1;32mor\u001b[0m \u001b[0mself\u001b[0m\u001b[1;33m.\u001b[0m\u001b[0mpage_index\u001b[0m \u001b[1;33m==\u001b[0m \u001b[0mlen\u001b[0m\u001b[1;33m(\u001b[0m\u001b[0mself\u001b[0m\u001b[1;33m.\u001b[0m\u001b[0mcurrent_page\u001b[0m\u001b[1;33m)\u001b[0m \u001b[1;33m-\u001b[0m \u001b[1;36m1\u001b[0m\u001b[1;33m:\u001b[0m\u001b[1;33m\u001b[0m\u001b[0m\n\u001b[0;32m    196\u001b[0m             \u001b[1;31m# Reached end of current page, get the next page...\u001b[0m\u001b[1;33m\u001b[0m\u001b[1;33m\u001b[0m\u001b[0m\n\u001b[1;32m--> 197\u001b[1;33m             \u001b[0mself\u001b[0m\u001b[1;33m.\u001b[0m\u001b[0mcurrent_page\u001b[0m \u001b[1;33m=\u001b[0m \u001b[0mself\u001b[0m\u001b[1;33m.\u001b[0m\u001b[0mpage_iterator\u001b[0m\u001b[1;33m.\u001b[0m\u001b[0mnext\u001b[0m\u001b[1;33m(\u001b[0m\u001b[1;33m)\u001b[0m\u001b[1;33m\u001b[0m\u001b[0m\n\u001b[0m\u001b[0;32m    198\u001b[0m             \u001b[0mself\u001b[0m\u001b[1;33m.\u001b[0m\u001b[0mpage_index\u001b[0m \u001b[1;33m=\u001b[0m \u001b[1;33m-\u001b[0m\u001b[1;36m1\u001b[0m\u001b[1;33m\u001b[0m\u001b[0m\n\u001b[0;32m    199\u001b[0m         \u001b[0mself\u001b[0m\u001b[1;33m.\u001b[0m\u001b[0mpage_index\u001b[0m \u001b[1;33m+=\u001b[0m \u001b[1;36m1\u001b[0m\u001b[1;33m\u001b[0m\u001b[0m\n",
      "\u001b[1;32mD:\\Anaconda\\lib\\site-packages\\tweepy\\cursor.py\u001b[0m in \u001b[0;36mnext\u001b[1;34m(self)\u001b[0m\n\u001b[0;32m    106\u001b[0m \u001b[1;33m\u001b[0m\u001b[0m\n\u001b[0;32m    107\u001b[0m         \u001b[1;32mif\u001b[0m \u001b[0mself\u001b[0m\u001b[1;33m.\u001b[0m\u001b[0mindex\u001b[0m \u001b[1;33m>=\u001b[0m \u001b[0mlen\u001b[0m\u001b[1;33m(\u001b[0m\u001b[0mself\u001b[0m\u001b[1;33m.\u001b[0m\u001b[0mresults\u001b[0m\u001b[1;33m)\u001b[0m \u001b[1;33m-\u001b[0m \u001b[1;36m1\u001b[0m\u001b[1;33m:\u001b[0m\u001b[1;33m\u001b[0m\u001b[0m\n\u001b[1;32m--> 108\u001b[1;33m             \u001b[0mdata\u001b[0m \u001b[1;33m=\u001b[0m \u001b[0mself\u001b[0m\u001b[1;33m.\u001b[0m\u001b[0mmethod\u001b[0m\u001b[1;33m(\u001b[0m\u001b[0mmax_id\u001b[0m\u001b[1;33m=\u001b[0m\u001b[0mself\u001b[0m\u001b[1;33m.\u001b[0m\u001b[0mmax_id\u001b[0m\u001b[1;33m,\u001b[0m \u001b[0mparser\u001b[0m\u001b[1;33m=\u001b[0m\u001b[0mRawParser\u001b[0m\u001b[1;33m(\u001b[0m\u001b[1;33m)\u001b[0m\u001b[1;33m,\u001b[0m \u001b[1;33m*\u001b[0m\u001b[0mself\u001b[0m\u001b[1;33m.\u001b[0m\u001b[0margs\u001b[0m\u001b[1;33m,\u001b[0m \u001b[1;33m**\u001b[0m\u001b[0mself\u001b[0m\u001b[1;33m.\u001b[0m\u001b[0mkargs\u001b[0m\u001b[1;33m)\u001b[0m\u001b[1;33m\u001b[0m\u001b[0m\n\u001b[0m\u001b[0;32m    109\u001b[0m \u001b[1;33m\u001b[0m\u001b[0m\n\u001b[0;32m    110\u001b[0m             \u001b[1;32mif\u001b[0m \u001b[0mhasattr\u001b[0m\u001b[1;33m(\u001b[0m\u001b[0mself\u001b[0m\u001b[1;33m.\u001b[0m\u001b[0mmethod\u001b[0m\u001b[1;33m,\u001b[0m \u001b[1;34m'__self__'\u001b[0m\u001b[1;33m)\u001b[0m\u001b[1;33m:\u001b[0m\u001b[1;33m\u001b[0m\u001b[0m\n",
      "\u001b[1;32mD:\\Anaconda\\lib\\site-packages\\tweepy\\binder.py\u001b[0m in \u001b[0;36m_call\u001b[1;34m(*args, **kwargs)\u001b[0m\n\u001b[0;32m    248\u001b[0m             \u001b[1;32mreturn\u001b[0m \u001b[0mmethod\u001b[0m\u001b[1;33m\u001b[0m\u001b[0m\n\u001b[0;32m    249\u001b[0m         \u001b[1;32melse\u001b[0m\u001b[1;33m:\u001b[0m\u001b[1;33m\u001b[0m\u001b[0m\n\u001b[1;32m--> 250\u001b[1;33m             \u001b[1;32mreturn\u001b[0m \u001b[0mmethod\u001b[0m\u001b[1;33m.\u001b[0m\u001b[0mexecute\u001b[0m\u001b[1;33m(\u001b[0m\u001b[1;33m)\u001b[0m\u001b[1;33m\u001b[0m\u001b[0m\n\u001b[0m\u001b[0;32m    251\u001b[0m \u001b[1;33m\u001b[0m\u001b[0m\n\u001b[0;32m    252\u001b[0m     \u001b[1;31m# Set pagination mode\u001b[0m\u001b[1;33m\u001b[0m\u001b[1;33m\u001b[0m\u001b[0m\n",
      "\u001b[1;32mD:\\Anaconda\\lib\\site-packages\\tweepy\\binder.py\u001b[0m in \u001b[0;36mexecute\u001b[1;34m(self)\u001b[0m\n\u001b[0;32m    232\u001b[0m                     \u001b[1;32mraise\u001b[0m \u001b[0mRateLimitError\u001b[0m\u001b[1;33m(\u001b[0m\u001b[0merror_msg\u001b[0m\u001b[1;33m,\u001b[0m \u001b[0mresp\u001b[0m\u001b[1;33m)\u001b[0m\u001b[1;33m\u001b[0m\u001b[0m\n\u001b[0;32m    233\u001b[0m                 \u001b[1;32melse\u001b[0m\u001b[1;33m:\u001b[0m\u001b[1;33m\u001b[0m\u001b[0m\n\u001b[1;32m--> 234\u001b[1;33m                     \u001b[1;32mraise\u001b[0m \u001b[0mTweepError\u001b[0m\u001b[1;33m(\u001b[0m\u001b[0merror_msg\u001b[0m\u001b[1;33m,\u001b[0m \u001b[0mresp\u001b[0m\u001b[1;33m,\u001b[0m \u001b[0mapi_code\u001b[0m\u001b[1;33m=\u001b[0m\u001b[0mapi_error_code\u001b[0m\u001b[1;33m)\u001b[0m\u001b[1;33m\u001b[0m\u001b[0m\n\u001b[0m\u001b[0;32m    235\u001b[0m \u001b[1;33m\u001b[0m\u001b[0m\n\u001b[0;32m    236\u001b[0m             \u001b[1;31m# Parse the response payload\u001b[0m\u001b[1;33m\u001b[0m\u001b[1;33m\u001b[0m\u001b[0m\n",
      "\u001b[1;31mTweepError\u001b[0m: Twitter error response: status code = 429"
     ]
    }
   ],
   "source": [
    "with open('bp_jkt_tweets.csv', 'w', encoding=\"utf-8\") as csv_tweet, open('bp_users_jkt.csv', 'w', encoding=\"utf-8\") as csv_user:\n",
    "    fieldnames_tweet = ['id', 'text', 'user_id', 'created_at']\n",
    "    writer_tweet = csv.DictWriter(csv_tweet, fieldnames=fieldnames_tweet)\n",
    "    writer_tweet.writeheader()\n",
    "\n",
    "    fieldnames_user = ['id', 'name', 'screen_name', 'location', 'followers_count', 'friends_count']\n",
    "    writer_user = csv.DictWriter(csv_user, fieldnames=fieldnames_user)\n",
    "    writer_user.writeheader()\n",
    "\n",
    "    for tweet in bp_jkt_tweets:\n",
    "        if not tweet.retweeted and ('RT @' not in tweet.text):\n",
    "            writer_tweet.writerow({\n",
    "                'id': tweet.id, \n",
    "                'text': tweet.text, \n",
    "                'user_id': tweet.user.id,\n",
    "                'created_at': tweet.created_at\n",
    "            })\n",
    "\n",
    "\n",
    "            writer_user.writerow({\n",
    "                'id': tweet.user.id, \n",
    "                'name': tweet.user.name, \n",
    "                'screen_name': tweet.user.screen_name,\n",
    "                'location': tweet.user.location,\n",
    "                'followers_count': tweet.user.followers_count,\n",
    "                'friends_count': tweet.user.friends_count\n",
    "            })        \n",
    "        "
   ]
  },
  {
   "cell_type": "code",
   "execution_count": 38,
   "metadata": {},
   "outputs": [],
   "source": [
    "bp_jogja_tweets = tweepy.Cursor(api.search, q='venom', geocode=\"-7.7955798,110.36948959999995,50km\").items()"
   ]
  },
  {
   "cell_type": "code",
   "execution_count": 39,
   "metadata": {},
   "outputs": [],
   "source": [
    "with open('bp_jogja_tweets.csv', 'w', encoding='utf-8') as csv_tweet, open('bp_users_jogja.csv', 'w', encoding='utf-8') as csv_user:\n",
    "    fieldnames_tweet = ['id', 'text', 'user_id', 'created_at']\n",
    "    writer_tweet = csv.DictWriter(csv_tweet, fieldnames=fieldnames_tweet)\n",
    "    writer_tweet.writeheader()\n",
    "\n",
    "    fieldnames_user = ['id', 'name', 'screen_name', 'location', 'followers_count', 'friends_count']\n",
    "    writer_user = csv.DictWriter(csv_user, fieldnames=fieldnames_user)\n",
    "    writer_user.writeheader()\n",
    "\n",
    "    for tweet in bp_jogja_tweets:\n",
    "        if not tweet.retweeted and ('RT @' not in tweet.text):\n",
    "            writer_tweet.writerow({\n",
    "                'id': tweet.id, \n",
    "                'text': tweet.text, \n",
    "                'user_id': tweet.user.id,\n",
    "                'created_at': tweet.created_at\n",
    "            })\n",
    "\n",
    "            writer_user.writerow({\n",
    "                'id': tweet.user.id, \n",
    "                'name': tweet.user.name, \n",
    "                'screen_name': tweet.user.screen_name,\n",
    "                'location': tweet.user.location,\n",
    "                'followers_count': tweet.user.followers_count,\n",
    "                'friends_count': tweet.user.friends_count\n",
    "            })        \n",
    "        "
   ]
  },
  {
   "cell_type": "code",
   "execution_count": null,
   "metadata": {},
   "outputs": [],
   "source": []
  }
 ],
 "metadata": {
  "kernelspec": {
   "display_name": "Python 3",
   "language": "python",
   "name": "python3"
  },
  "language_info": {
   "codemirror_mode": {
    "name": "ipython",
    "version": 3
   },
   "file_extension": ".py",
   "mimetype": "text/x-python",
   "name": "python",
   "nbconvert_exporter": "python",
   "pygments_lexer": "ipython3",
   "version": "3.6.4"
  }
 },
 "nbformat": 4,
 "nbformat_minor": 2
}
